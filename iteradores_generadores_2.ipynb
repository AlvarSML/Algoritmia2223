{
 "cells": [
  {
   "cell_type": "markdown",
   "metadata": {},
   "source": [
    "# Algoritmia\n",
    "## Iteradores y Generadores II"
   ]
  },
  {
   "cell_type": "markdown",
   "metadata": {},
   "source": [
    "Se pide la implementación de las funciones que aparecen a continuación. \n",
    "\n",
    "En el cuerpo de cada función hay una instrucción ```pass```, se debe sustituir por la implementación adecuada.\n",
    "\n",
    "Para cada función que se pide se proporcionan algunos tests. Las implementaciones deberían superar estos tests."
   ]
  },
  {
   "cell_type": "markdown",
   "metadata": {},
   "source": [
    "## Preámbulo"
   ]
  },
  {
   "cell_type": "code",
   "execution_count": 1,
   "metadata": {},
   "outputs": [],
   "source": [
    "# Importaciones\n",
    "import unittest\n",
    "from itertools import chain, count, cycle, repeat, zip_longest"
   ]
  },
  {
   "cell_type": "code",
   "execution_count": 2,
   "metadata": {},
   "outputs": [],
   "source": [
    "# Número de iteraciones que se usan en algunos tests.\n",
    "# Cuando se está realizando la práctica puede ser conveniente utilizar un valor más pequeño para que vaya más rápido.\n",
    "# Pero una vez finalizada debería poder ejecutarse con este valor en un tiempo de minutos.\n",
    "num_iteraciones_test = 10"
   ]
  },
  {
   "cell_type": "markdown",
   "metadata": {},
   "source": [
    "## Secuencia generalizada de Fibonacci\n",
    "En la secuencia de Fibonacci, cada valor se obtiene sumando los dos anteriores. Se considera una generalización en la que cada valor se obtiene sumando los *k* anteriores:\n",
    "- F(0) = ... = F(k-1) = 1\n",
    "- F(n) = F(n-1) + ... + F(n-k+1)"
   ]
  },
  {
   "cell_type": "markdown",
   "metadata": {},
   "source": [
    "### Función `fibonacci_generalizado`"
   ]
  },
  {
   "cell_type": "code",
   "execution_count": 3,
   "metadata": {},
   "outputs": [
    {
     "name": "stdout",
     "output_type": "stream",
     "text": [
      "Window:  []\n",
      "1\n",
      "Window:  [1]\n",
      "1\n",
      "Window:  [1, 1]\n",
      "2\n",
      "Window:  [1, 2]\n",
      "3\n",
      "Window:  [2, 3]\n",
      "5\n",
      "Window:  [3, 5]\n",
      "8\n",
      "Window:  [5, 8]\n",
      "13\n",
      "Window:  [8, 13]\n",
      "21\n",
      "Window:  [13, 21]\n",
      "34\n"
     ]
    }
   ],
   "source": [
    "def fibonacci_generalizado(k, iniciales = None):\n",
    "    \"\"\"\n",
    "    Genera indefinidamente valores de la secuencia generalizada de Fibonacci.\n",
    "    Cada valor, salvo los iniciales, es la suma de los k anteriores.\n",
    "    Los valores iniciales, que deben ser k, son los valores de F(0) ... F(k-1).\n",
    "    El valor por defecto de los valores iniciales es 1.\n",
    "    El espacio de memoria utilizado debería ser O(k)\n",
    "    \"\"\"\n",
    "    window = (iniciales or [])\n",
    "\n",
    "    if len(window) > 0:\n",
    "        i = sum(window)\n",
    "        for elem in window:\n",
    "            # print(\"Window(i): \", window)\n",
    "            yield elem\n",
    "            i = sum(window)\n",
    "    else:\n",
    "        i = 1\n",
    "\n",
    "    while True:\n",
    "        print(\"Window: \", window)\n",
    "        if (len(window) == k):\n",
    "            yield sum(window)\n",
    "            i = sum(window)\n",
    "            window.pop(0)\n",
    "        else:\n",
    "            yield i\n",
    "        window.append(i)\n",
    "\n",
    "\n",
    "it = 1\n",
    "fib = iter(fibonacci_generalizado(2))\n",
    "while it < 10:\n",
    "    it = it +1\n",
    "    print(next(fib))\n"
   ]
  },
  {
   "cell_type": "markdown",
   "metadata": {},
   "source": [
    "### Tests para `fibonacci_generalizado`"
   ]
  },
  {
   "cell_type": "code",
   "execution_count": 4,
   "metadata": {},
   "outputs": [],
   "source": [
    "class TestFibonacciGeneralizado(unittest.TestCase):\n",
    "    \n",
    "    def setUp(self):\n",
    "        # Distintos casos de prueba formados por k (el orden de la secuencia),\n",
    "        # los valores iniciales y el inicio de la secuencia que se debe\n",
    "        # generar\n",
    "        self.casos_prueba = (\n",
    "            (2, None, [1, 1, 2, 3, 5, 8, 13, 21, 34]),\n",
    "            (2, [2, 2], [2, 2, 4, 6, 10, 16, 26, 42]),\n",
    "            (3, None, [1, 1, 1, 3, 5, 9, 17, 31, 57]),\n",
    "            (4, None, [1, 1, 1, 1, 4, 7, 13, 25, 49]),\n",
    "        )\n",
    "        \n",
    "    def test_1(self):\n",
    "        # Primera comprobación de los casos de prueba\n",
    "        for k, iniciales, secuencia in self.casos_prueba:\n",
    "            i = 0\n",
    "            for v in fibonacci_generalizado(k, iniciales):\n",
    "                if i >= len(secuencia):\n",
    "                    break\n",
    "                self.assertEqual(v, secuencia[i])\n",
    "                i += 1\n",
    "            assert i == len(secuencia)\n",
    "\n",
    "    def test_2(self):\n",
    "        # Segunda comprobación de los casos de prueba\n",
    "        for k, iniciales, secuencia in self.casos_prueba:\n",
    "            for v, w in zip(fibonacci_generalizado(k, iniciales), secuencia):\n",
    "                self.assertEqual(v, w)\n",
    "                \n",
    "    def test_3(self):\n",
    "        # Tercera comprobación de los casos de prueba\n",
    "        for k, iniciales, secuencia in self.casos_prueba: \n",
    "            generador = fibonacci_generalizado(k, iniciales)\n",
    "            for v in secuencia:\n",
    "                self.assertEqual(v, next(generador))\n",
    "                \n",
    "    def test_muchos_valores(self):\n",
    "        # Comprobación de que se generan muchos valores\n",
    "        generador = fibonacci_generalizado(4, [0, 0, 0, 0])\n",
    "        for _ in range(num_iteraciones_test):\n",
    "            self.assertEqual(next(generador), 0)"
   ]
  },
  {
   "cell_type": "markdown",
   "metadata": {},
   "source": [
    "## Iterador repetido\n",
    "Dado un iterador o iterable, se quiere generar sus elementos repetidamente, donde el número de repeticiones de cada elemento viene dado por un segundo iterador o iterable."
   ]
  },
  {
   "cell_type": "markdown",
   "metadata": {},
   "source": [
    "### Función `iter_repetido`"
   ]
  },
  {
   "cell_type": "code",
   "execution_count": 5,
   "metadata": {},
   "outputs": [
    {
     "data": {
      "text/plain": [
       "['a', 'a', 'a', 'c', 'c']"
      ]
     },
     "execution_count": 5,
     "metadata": {},
     "output_type": "execute_result"
    }
   ],
   "source": [
    "def iter_repetido(itera, repeticiones):\n",
    "    \"\"\"\n",
    "    Genera los elementos del primer argumento tantas veces como el elemento \n",
    "    correspondiente del segundo argumento.\n",
    "    Se espera que los elementos del segundo argumento sean números naturales.\n",
    "    El primer elemento del primer argumento se genera tantas veces como el \n",
    "    primer elemento del segundo argumento, ... el elemento i-ésimo del primer \n",
    "    argumento se genera tantas veces como el elemento i-ésimo del segundo\n",
    "    argumento...\n",
    "    Si el número de elementos de los dos argumentos fuera diferente, se\n",
    "    generarán elementos hasta que uno se quede sin elementos.\n",
    "    \"\"\"\n",
    "    reps = iter(repeticiones)\n",
    "    for elemento in itera:\n",
    "        repeticiones = next(reps, None)\n",
    "        \n",
    "        if repeticiones is not None:\n",
    "            for num in range(repeticiones):\n",
    "                yield elemento\n",
    "\n",
    "\n",
    "fib = list(iter(iter_repetido(\"abcd\", [3, 0, 2])))\n",
    "\n",
    "fib\n"
   ]
  },
  {
   "cell_type": "markdown",
   "metadata": {},
   "source": [
    "### Tests para `iter_repetido`"
   ]
  },
  {
   "cell_type": "code",
   "execution_count": 6,
   "metadata": {},
   "outputs": [],
   "source": [
    "class TestIterRepetido(unittest.TestCase):\n",
    "\n",
    "    def setUp(self):\n",
    "        # Distintos casos de prueba formados por el iterable, las repeticiones\n",
    "        # y la lista de valores que se deben generar\n",
    "        self.casos_prueba = (\n",
    "            (\"abc\", [3, 0, 2], ['a', 'a', 'a', 'c', 'c']),\n",
    "            (\"abcd\", [3, 0, 2], ['a', 'a', 'a', 'c', 'c']),\n",
    "            (\"abc\", [3, 0, 2, 4], ['a', 'a', 'a', 'c', 'c']),\n",
    "            (range(3), range(1, 4), [0, 1, 1, 2, 2, 2])\n",
    "    )\n",
    "\n",
    "    def test_1(self):\n",
    "        # Primera comprobación de los casos de prueba\n",
    "        for iterable, repeticiones, lista in self.casos_prueba:\n",
    "            self.assertEqual(list(iter_repetido(iterable, repeticiones)), \n",
    "                             lista)\n",
    "\n",
    "    def test_2(self):\n",
    "        # Segunda comprobación de los casos de prueba\n",
    "        for iterable, repeticiones, lista in self.casos_prueba:\n",
    "            for v, w in zip_longest(iter_repetido(iterable, repeticiones), \n",
    "                                    lista):\n",
    "                self.assertEqual(v, w)\n",
    "\n",
    "    def test_3(self):\n",
    "        # Tercera comprobación de los casos de prueba        \n",
    "        for iterable, repeticiones, lista in self.casos_prueba:\n",
    "            generador = iter_repetido(iterable, repeticiones)\n",
    "            for v in lista:\n",
    "                self.assertEqual(v, next(generador))\n",
    "\n",
    "    def test_muchos_valores_1(self):\n",
    "        # Primera comprobación de que se generan muchos valores\n",
    "        generador = iter_repetido(count(), repeat(1))\n",
    "        for i in range(num_iteraciones_test):\n",
    "            self.assertEqual(i, next(generador))\n",
    "\n",
    "    def test_muchos_valores_2(self):\n",
    "        # Segunda comprobación de que se generan muchos valores\n",
    "        repeticiones = [3, 0, 1]\n",
    "        generador = iter_repetido(count(), cycle(repeticiones))\n",
    "        r = 0\n",
    "        for i in range(num_iteraciones_test):\n",
    "            for _ in range(repeticiones[r]):\n",
    "                self.assertEqual(i, next(generador))\n",
    "            r = r + 1 \n",
    "            if r == len(repeticiones): r = 0"
   ]
  },
  {
   "cell_type": "markdown",
   "metadata": {},
   "source": [
    "## Mezcla de iteradores ordenados\n",
    "Dados dos iteradores o iterables que generan valores ordenados, se quiere mezclar los elementos de ambos. La mezcla consiste en generar en orden los elementos de los dos iteradores."
   ]
  },
  {
   "cell_type": "markdown",
   "metadata": {},
   "source": [
    "### Función `iter_mezcla`"
   ]
  },
  {
   "cell_type": "code",
   "execution_count": 7,
   "metadata": {},
   "outputs": [
    {
     "data": {
      "text/plain": [
       "'\\nfib = iter(iter_mezcla(range(0, 100, 4), range(2, 100, 4)))\\nit = 0\\nwhile it < 100:\\n    it = it +1\\n    print(next(fib))\\n'"
      ]
     },
     "execution_count": 7,
     "metadata": {},
     "output_type": "execute_result"
    }
   ],
   "source": [
    "def iter_mezcla(iter_1, iter_2):\n",
    "    \"\"\"\n",
    "    Dados dos iteradores o iterables, suponiendo que ambos generan valores en\n",
    "    orden, se generan los elementos de ambos de manera ordenada.\n",
    "    La cantidad de memoria usada debe ser O(1).\n",
    "    \"\"\"\n",
    "    it1 = iter(iter_1)\n",
    "    it2 = iter(iter_2)\n",
    "\n",
    "    i1 = next(it1, None)\n",
    "    i2 = next(it2, None)\n",
    "\n",
    "    while (i1 is not None) or (i2 is not None):\n",
    "        # print(f\"[i1={i1},i2={i2}]\")\n",
    "        if (i1 is not None and (i2 is None or i1 < i2)):\n",
    "            # Pivot en 1\n",
    "            yield i1\n",
    "            i1 = next(it1, None)\n",
    "        elif (i2 is not None and (i1 is None or i1 >= i2)):\n",
    "            # Pivot en 1\n",
    "            yield i2\n",
    "            i2 = next(it2, None)\n",
    "\n",
    "\"\"\"\n",
    "fib = iter(iter_mezcla(range(0, 100, 4), range(2, 100, 4)))\n",
    "it = 0\n",
    "while it < 100:\n",
    "    it = it +1\n",
    "    print(next(fib))\n",
    "\"\"\""
   ]
  },
  {
   "cell_type": "markdown",
   "metadata": {},
   "source": [
    "### Tests para `iter_mezcla`"
   ]
  },
  {
   "cell_type": "code",
   "execution_count": 8,
   "metadata": {},
   "outputs": [],
   "source": [
    "class TestIterMezcla(unittest.TestCase):\n",
    "\n",
    "    def setUp(self):\n",
    "        # Distintos casos de prueba formados por los dos iterables de entrada y\n",
    "        # un tercero con la salida esperada\n",
    "        self.casos_prueba = (\n",
    "            (range(100), range(100, 200), range(200)),\n",
    "            (range(0, 100, 2), range(1, 100, 2), range(100)),\n",
    "            (range(0, 100, 4), range(2, 100, 4), range(0, 100, 2)),\n",
    "            (range(0, 100), range(200, 300), \n",
    "             chain(range(0, 100), range(200, 300))),\n",
    "            (range(100), range(100), (x for x in range(100) for _ in range(2))),\n",
    "            (range(0, 100, 3), range(0, 100, 5), \n",
    "             sorted(chain(range(0, 100, 3), range(0, 100, 5)))),\n",
    "            (range(num_iteraciones_test), \n",
    "             range(num_iteraciones_test, 2*num_iteraciones_test),\n",
    "             range(2*num_iteraciones_test)),\n",
    "            (range(0, num_iteraciones_test, 2), \n",
    "             range(1, num_iteraciones_test, 2), \n",
    "             range(num_iteraciones_test)),\n",
    "            (range(num_iteraciones_test), range(num_iteraciones_test), \n",
    "             (x for x in range(num_iteraciones_test) for _ in range(2)))\n",
    "        )\n",
    "\n",
    "    def test_1(self):\n",
    "        # Primera comprobación con los casos de prueba\n",
    "        for it_1, it_2, it_resultado in self.casos_prueba:\n",
    "            for v, w in zip_longest(iter_mezcla(it_1, it_2), it_resultado):\n",
    "                self.assertEqual(v, w) \n",
    "\n",
    "    def test_2(self):\n",
    "        # Segunda comprobación con los casos de prueba\n",
    "        # La diferencia con la primera es el orden en que se pasan los iterables\n",
    "        for it_1, it_2, it_resultado in self.casos_prueba:\n",
    "            for v, w in zip_longest(iter_mezcla(it_2, it_1), it_resultado):\n",
    "                self.assertEqual(v, w) \n"
   ]
  },
  {
   "cell_type": "markdown",
   "metadata": {},
   "source": [
    "## Ejecución de tests"
   ]
  },
  {
   "cell_type": "code",
   "execution_count": 9,
   "metadata": {},
   "outputs": [
    {
     "name": "stderr",
     "output_type": "stream",
     "text": [
      "...........\n",
      "----------------------------------------------------------------------\n",
      "Ran 11 tests in 0.019s\n",
      "\n",
      "OK\n"
     ]
    },
    {
     "name": "stdout",
     "output_type": "stream",
     "text": [
      "Window:  []\n",
      "Window:  [1]\n",
      "Window:  [1, 1]\n",
      "Window:  [1, 2]\n",
      "Window:  [2, 3]\n",
      "Window:  [3, 5]\n",
      "Window:  [5, 8]\n",
      "Window:  [8, 13]\n",
      "Window:  [13, 21]\n",
      "Window:  [21, 34]\n",
      "Window:  [2, 2]\n",
      "Window:  [2, 4]\n",
      "Window:  [4, 6]\n",
      "Window:  [6, 10]\n",
      "Window:  [10, 16]\n",
      "Window:  [16, 26]\n",
      "Window:  [26, 42]\n",
      "Window:  []\n",
      "Window:  [1]\n",
      "Window:  [1, 1]\n",
      "Window:  [1, 1, 1]\n",
      "Window:  [1, 1, 3]\n",
      "Window:  [1, 3, 5]\n",
      "Window:  [3, 5, 9]\n",
      "Window:  [5, 9, 17]\n",
      "Window:  [9, 17, 31]\n",
      "Window:  [17, 31, 57]\n",
      "Window:  []\n",
      "Window:  [1]\n",
      "Window:  [1, 1]\n",
      "Window:  [1, 1, 1]\n",
      "Window:  [1, 1, 1, 1]\n",
      "Window:  [1, 1, 1, 4]\n",
      "Window:  [1, 1, 4, 7]\n",
      "Window:  [1, 4, 7, 13]\n",
      "Window:  [4, 7, 13, 25]\n",
      "Window:  [7, 13, 25, 49]\n",
      "Window:  []\n",
      "Window:  [1]\n",
      "Window:  [1, 1]\n",
      "Window:  [1, 2]\n",
      "Window:  [2, 3]\n",
      "Window:  [3, 5]\n",
      "Window:  [5, 8]\n",
      "Window:  [8, 13]\n",
      "Window:  [13, 21]\n",
      "Window:  [21, 34]\n",
      "Window:  [2, 2]\n",
      "Window:  [2, 4]\n",
      "Window:  [4, 6]\n",
      "Window:  [6, 10]\n",
      "Window:  [10, 16]\n",
      "Window:  [16, 26]\n",
      "Window:  [26, 42]\n",
      "Window:  []\n",
      "Window:  [1]\n",
      "Window:  [1, 1]\n",
      "Window:  [1, 1, 1]\n",
      "Window:  [1, 1, 3]\n",
      "Window:  [1, 3, 5]\n",
      "Window:  [3, 5, 9]\n",
      "Window:  [5, 9, 17]\n",
      "Window:  [9, 17, 31]\n",
      "Window:  [17, 31, 57]\n",
      "Window:  []\n",
      "Window:  [1]\n",
      "Window:  [1, 1]\n",
      "Window:  [1, 1, 1]\n",
      "Window:  [1, 1, 1, 1]\n",
      "Window:  [1, 1, 1, 4]\n",
      "Window:  [1, 1, 4, 7]\n",
      "Window:  [1, 4, 7, 13]\n",
      "Window:  [4, 7, 13, 25]\n",
      "Window:  [7, 13, 25, 49]\n",
      "Window:  []\n",
      "Window:  [1]\n",
      "Window:  [1, 1]\n",
      "Window:  [1, 2]\n",
      "Window:  [2, 3]\n",
      "Window:  [3, 5]\n",
      "Window:  [5, 8]\n",
      "Window:  [8, 13]\n",
      "Window:  [13, 21]\n",
      "Window:  [2, 2]\n",
      "Window:  [2, 4]\n",
      "Window:  [4, 6]\n",
      "Window:  [6, 10]\n",
      "Window:  [10, 16]\n",
      "Window:  [16, 26]\n",
      "Window:  []\n",
      "Window:  [1]\n",
      "Window:  [1, 1]\n",
      "Window:  [1, 1, 1]\n",
      "Window:  [1, 1, 3]\n",
      "Window:  [1, 3, 5]\n",
      "Window:  [3, 5, 9]\n",
      "Window:  [5, 9, 17]\n",
      "Window:  [9, 17, 31]\n",
      "Window:  []\n",
      "Window:  [1]\n",
      "Window:  [1, 1]\n",
      "Window:  [1, 1, 1]\n",
      "Window:  [1, 1, 1, 1]\n",
      "Window:  [1, 1, 1, 4]\n",
      "Window:  [1, 1, 4, 7]\n",
      "Window:  [1, 4, 7, 13]\n",
      "Window:  [4, 7, 13, 25]\n",
      "Window:  [0, 0, 0, 0]\n",
      "Window:  [0, 0, 0, 0]\n",
      "Window:  [0, 0, 0, 0]\n",
      "Window:  [0, 0, 0, 0]\n",
      "Window:  [0, 0, 0, 0]\n",
      "Window:  [0, 0, 0, 0]\n"
     ]
    }
   ],
   "source": [
    "if __name__ == '__main__':\n",
    "    unittest.main(argv=['first-arg-is-ignored'], exit=False)"
   ]
  },
  {
   "cell_type": "code",
   "execution_count": null,
   "metadata": {},
   "outputs": [],
   "source": []
  }
 ],
 "metadata": {
  "kernelspec": {
   "display_name": "Python 3 (ipykernel)",
   "language": "python",
   "name": "python3"
  },
  "language_info": {
   "codemirror_mode": {
    "name": "ipython",
    "version": 3
   },
   "file_extension": ".py",
   "mimetype": "text/x-python",
   "name": "python",
   "nbconvert_exporter": "python",
   "pygments_lexer": "ipython3",
   "version": "3.9.15"
  },
  "vscode": {
   "interpreter": {
    "hash": "f35ceb41e6fee1c2944106401da979402a2c209050b16b79df79832805453973"
   }
  }
 },
 "nbformat": 4,
 "nbformat_minor": 4
}
