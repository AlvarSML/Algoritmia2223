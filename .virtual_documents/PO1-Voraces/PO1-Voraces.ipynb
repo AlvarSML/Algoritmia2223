#testeable
# Imports útiles
import bisect
import math
import queue
import heapq


#testeable
class Sopa:
    """
    Clase Sopa. 
    Representa una sopa o caldo.
    """

    def __init__(self, nombre, coste):
        """Crea un objeto de clase Sopa

        Parameters
        ----------
        nombre : str
            Nombre de la sopa
        coste : number
            Coste de hacer una olla de sopa
        """
        self.nombre = nombre
        self.coste = coste
        self.popularidad = {}

    def __hash__(self):
        """Genera el valor hash identificativo de la sopa

        Returns
        -------
        int
            Valor hash
        """
        return hash((self.nombre, self.coste))

    def __str__(self):
        """Genera una cadena descriptiva del objeto

        Returns
        -------
        str
            Cadena descriptiva
        """
        return (f"[Sopa: {self.nombre}@{self.coste}€]")

    def __repr__(self):
        """Genera una cadena descriptiva del objeto dentro de colecciones

        Returns
        -------
        str
            Cadena descriptiva
        """  
        return (f"Sopa[{self.nombre}@{self.coste}€]")

    def set_popularidad(self, restaurante, pedidos):
        """Dado un restuarante y un número de pedidos anteriores,
           almacena para esta sopa la popularidad que tiene.

        Parameters
        ----------
        restaurante : str
            Restaurante donde se ha pedido esta sopa o caldo
        pedidos : int
            Número de pedidos anteriores
        """
        #? Se suman todos los pedidos
        if restaurante in self.popularidad:
            self.popularidad[restaurante] += pedidos
        else:
            self.popularidad[restaurante] = pedidos


    def get_popularidad(self, restaurante):
        """Dado un restaurante, obtiene la popularidad de la sopa

        Parameters
        ----------
        restaurante : str
            Restaurante donde se vende esta sopa o caldo

        Returns
        -------
        int
            Popularidad de la sopa en el restaurante
        """
        return self.popularidad.get(restaurante) if (restaurante in self.popularidad) else 0

    """Funciones del profesor"""
    def __eq__(self, obj):
        return self.nombre == obj.nombre and self.coste == obj.coste

    def __lt__(self, obj):
        return self.coste < obj.coste



''' Pruebas
'''
s1 = Sopa("S1",1)
s1.set_popularidad("r1", 5)
s1.set_popularidad("r1", 5)
pop = s1.get_popularidad("r1")
pop


#testeable
class Restaurante:
    """
    Clase del restuarante de Sopas y Caldos SL.
    """

    def __init__(self, identificador, nombre, presupuesto):
        """Instancia un Restaurante

        Parameters
        ----------
        identificador : int
            Valor que identifica el restaurante.
        nombre : str
            Nombre del restaurante.
        presupuesto : int
            Cantidad de dinero para hacer las ollas de sopa en un día.
        """
        self.identificador = identificador
        self.nombre = nombre
        self.presupuesto = presupuesto
        # Set de sopas que se han preparado
        self.pedidos = {}

    def __hash__(self):
        """Genera el valor hash identificativo del restaurante

        Returns
        -------
        int
            Valor hash
        """
        return hash(self.identificador)

    def __str__(self):
        """Genera una cadena descriptiva del objeto

        Returns

        str
            Cadena descriptiva
        """
        return (f"Resturante: ID[{self.identificador}], \
            Nombre[{self.nombre}], \
            Presupuesto[{self.presupuesto}]")

    def __repr__(self):
        """Genera una cadena descriptiva del objeto en colecciones

        Returns
        -------
        str
            Cadena descriptiva
        """      
        return (f"Res(#{self.identificador},{self.nombre},{self.presupuesto})")

    def prepara(self, sopas):
        """Dada una colección de sopas o caldos,
           seleccionar de cada uno cuanta cantidad (entre 0 y 1)
           se van a preparar.
           Se ha de optimizar la popularidad para que sea la máxima posible.
           ?? uso de popu/precio como metrica
           ?? Algoritmo de la "mochila"
        Parameters
        ----------
        sopas : collection
            Colección de sopas que se pueden preparar.
        """

        maxs, mins = 1, 0
        presu = self.presupuesto

        # tabla sopa para saber la popularidad por precio
        # maximizar popularidad, minimizar precio
        calculada = []
        for sopa in sopas:
            bisect.insort(calculada,
                    (sopa.get_popularidad(self.nombre) / sopa.coste, sopa)
                    )
        print(calculada)
        # tabla de salida
        salida = []

        # O(n)
        while (presu > 0) and len(calculada) > 0:
            # selecciona sopa mas a la derecha
            sopa_seleccionada = calculada.pop()
            maximo_producido = maxs * sopa_seleccionada[1].coste
            if presu > maximo_producido:
                # coste del maximo producido de la sopa mas rentable
                print(f"[{presu}€] Se puede producir un maximo de {maximo_producido}€ para {sopa_seleccionada}")
                par = (maxs, sopa_seleccionada[1])
                presu -= maximo_producido
            else:
                # se hacen el maximo de uds con el presupuesto
                maximo_viable = presu / sopa_seleccionada[1].coste
                print(f"El maximo viable de sopa con {presu}€ {sopa_seleccionada[1]} es {maximo_viable}")
                par = (maximo_viable, sopa_seleccionada[1])
                presu = 0

            salida.append(par)
            self.preparar_sopa(par[1], par[0])
        print(salida)
        return salida

    def preparar_sopa(self, sopa, cantidad):
        """ Inserta la cantidad de sopa que se ha creado 
            en el registro de creados

        Parameters
        ----------
        sopa : Sopa object
            Sopa que se ha preaprado
        """
        if sopa in self.pedidos:
            self.pedidos[sopa] += cantidad
        else:
            self.pedidos[sopa] = cantidad
        pass

    def cantidad_preparada(self, sopa):
        """Obtiene la cantidad de sopa preparada en el restaurante.

        Parameters
        ----------
        sopa : Sopa object
            Sopa del cual se quiere saber la cantidad preparada

        Returns
        -------
        float
            Cantidad de sopa preparada en el restaurante.
        """
        return sopa.pedidos(sopa)

    def sopas_preparadas(self):
        """Sopas preparadas en el restaurante

        Returns
        -------
        set
            Conjunto de tuplas (sopa, cantidad) de las sopas PREPARADAS en el restaurante.
        """
        return set(self.pedidos.items())

    def popularidad_total(self):
        """A partir de las sopas preparadas
           devolver la popularidad proporcional a la cantidad de sopa preparada.

        Returns
        -------
        number
            Popularidad proporcional a la cantidad de sopa preparada.
        """
        total = 0
        for sopa, cantidad in self.pedidos.items():
            total += (sopa.get_popularidad(self.nombre) * cantidad)
        return total


rest = Restaurante(1, "R1", 0)
sopas = [Sopa("sopa1", 1), Sopa("sopa2", 2), Sopa("sopa3", 10)]
sopas[0].set_popularidad("R1", 2)
sopas[1].set_popularidad("R1", 3)
sopas[2].set_popularidad("R1", 1)
resu = rest.prepara(sopas)
rest.popularidad_total()


#testeable
class Nodo:
    def __init__(self, hijos=[], data=None):
        self.hijos = hijos
        self.data = data

    def add_hijo(self, hijos=[], data=None):
        self.hijos.append(Nodo(hijos, data))


#testeable
class Arco:
    def __init__(self, origen, coste, destino):
        self.origen = origen
        self.coste = coste
        self.destino = destino

    def __lt__(self, obj):
        return self.coste < obj.coste

    def __str__(self):
        return f"Arco({self.origen}--{self.coste}-->{self.destino})"

    def __repr__(self):
        return f"Arco({self.origen}-{self.coste}->{self.destino})"


#testeable
class RedComarcas:
    """
    Red de comarcas para conectar con carreteras.
    """

    def __init__(self, comarcas, costes):
        """Instancia de la red de comarcas

        Parameters
        ----------
        comarcas : Iterable
            Conjunto de Comarcas disponibles
        distancias : dict{str (Nombre comarca): dict{str (Nombre comarca): int}}
            Grafo de costes de una carretera entre dos comarcas.
        """
        self.comarcas = comarcas
        self.costes = costes
        self.arbol_carreteras = set()
        self.coste = None

    def arcos_dict(self ,grafo_trios):
        dict_arcos = {}
        for arco in grafo_trios:
            if arco[1] not in dict_arcos:
                dict_arcos[arco[1]] = {}
            dict_arcos[arco[1]][arco[2]] = arco[0]
        return dict_arcos

    def construir_carreteras(self):
        
        grafo = self.costes.copy()
        # El arbol de destino es un set de arcos
        arbol_destino = set()

        # Es una lista pero se usa como cola de prioridad
        # un heap para mejorar la eficiencia
        # contiene los arcos sueltos del arbol de destino
        arcos_arbol = []
        visitados = set()
        visitados.add(list(self.comarcas)[0])
        nodo_inicio = list(self.comarcas)[0]

        # Construccion del heap inicial con los arcos que parten del inicio
        for destino, coste in grafo[nodo_inicio].items():
            # Necesitamos darle un formato que permita ver de forma unica 
            # cada arco
            if destino not in visitados:
                heapq.heappush(arcos_arbol, (coste, nodo_inicio, destino))

        # Mientras queden arcos en la cola
        while arcos_arbol:
            print("*********")
            print("Visitados: ", visitados)
            print("Heap ", arcos_arbol)

            coste, org, dest = heapq.heappop(arcos_arbol)
            print(f"POP: ({coste},{org},{dest})")

            # Si no se ha visitado el destino
            if dest not in visitados:
                # Se guarda el destino como visitado
                visitados.add(dest)

                # Se agregan los arcos que salen de el destino y no estan
                # en visitados destino->destino_destino
                for destino_destino, coste_destino in grafo[dest].items():
                    if destino_destino not in visitados:
                        heapq.heappush(
                            arcos_arbol,
                            (coste_destino, dest, destino_destino))

                # Como el arco es el de mayor prioridad
                arbol_destino.add((coste, org, dest))
                print("Arbol: ", arbol_destino)
        self.arbol_carreteras = arbol_destino
        return self.arcos_dict(arbol_destino)


    def construir_carreteras_(self):
        """A partir del grafo de costes
           hacer una selección de carreteras que conecten todas las comarcas
           con el menor coste posible. Todas las comarcas deben estar conectadas a la red.
        """
        # Comarcas ya introducidas
        recorridos = []

        # Comarcas restantes
        restantes = list(self.comarcas)

        # Nodos con posibles hijos
        abiertos = []

        # Lista de arcos potenciales
        hijos = []

        arbol = set()

        ## Se obtiene el estado inicial nodo-lista de arcos ##

        # Se parte de la primera comarca, se la usa de nodo raiz y se añade a 
        # recorridos
        ini = restantes[0]
        raiz = Nodo(data=ini)

        recorridos.append(ini)
        abiertos.append(ini)

        # Se sacan todos los arcos del arbol(abiertos)
        # Cola de arcos
        for origen in abiertos:
            for destino, coste in self.costes[origen].items():
                # El destino no puede estar en abiertos (ya en el arbol)
                if destino not in abiertos:
                    bisect.insort(hijos, Arco(origen, coste, destino))

        # se busca el menor arco > lista ordenada de menor a mayor
        print("## Cola de arcos ##")
        print("Hijos ", hijos)
        print("Arbol", arbol)
        print("###################")

        ## Hasta aqui estado inicial
        # Mientras queden nodos a los que no se ha llegado se buscan 
        # los arcos menores
        while len(abiertos) < len(restantes):
            # Se saca el siguiente arco minimo viable
            print("## Cola de arcos ##")
            actual = hijos.pop(0)
            while actual.destino in abiertos:
                actual = hijos.pop(0)
            print("POP: ", actual)

            # Se guarda el destino como visitado y como arco del arbol
            abiertos.append(actual.destino)
            arbol.add((actual.coste, actual.origen, actual.destino))

            # Se obtienen los arcos
            for destino, coste in self.costes[actual.destino].items():
                # El destino no puede estar en abiertos (ya en el arbol)
                if destino not in abiertos:
                    bisect.insort(hijos, Arco(actual.destino, coste, destino))


            print("Hijos ", hijos)
            print("Arbol", arbol)
            print("Abiertos", abiertos)
            print("###################")
        self.arbol_carreteras = arbol
        return arbol

    def get_grafo(self):
        """Devuelve el grafo de costes recibido

        Returns
        -------
        dict{str (Nombre comarca): dict{str (Nombre comarca): int}}
            Grafo de costes de una carretera entre dos comarcas.
        """
        return self.costes

    def get_carreteras(self):
        """Devuelve el grafo de carreteras a construir

        Returns
        -------
        Iterable
            Grafo de carreteras a construir
        """
        return self.arcos_dict(self.arbol_carreteras)

    def coste_total(self):
        """Devuelve el coste total de las carreteras a construir

        Returns
        -------
        int
            Coste total de las carreteras a construir
        """
        if self.coste is None :
            self.coste = sum([arco[0] for arco in self.arbol_carreteras])
            print("!Coste: ", self.coste)
        return self.coste



# Gracias chatgtp por los datos de ejemplo
costes2 = {
    "Madrid": {"Barcelona": 621, "Valencia": 355, "Málaga": 533, "Murcia": 398},
    "Barcelona": {"Madrid": 621, "Valencia": 355, "Zaragoza": 307, "Palma de Mallorca": 212},
    "Valencia": {"Madrid": 355, "Barcelona": 355, "Sevilla": 546, "Murcia": 73, "Alicante": 166},
    "Sevilla": {"Madrid": 537, "Valencia": 546, "Málaga": 119, "Córdoba": 142},
    "Málaga": {"Madrid": 533, "Sevilla": 219, "Granada": 132},
    "Murcia": {"Madrid": 398, "Valencia": 73, "Albacete": 154},
    "Zaragoza": {"Barcelona": 307, "Bilbao": 295, "Pamplona": 174},
    "Palma de Mallorca": {"Barcelona": 212, "Valencia": 266, "Ibiza": 165},
    "Alicante": {"Valencia": 166, "Albacete": 128},
    "Córdoba": {"Sevilla": 142, "Jaén": 115},
    "Granada": {"Málaga": 132, "Almería": 166},
    "Albacete": {"Murcia": 154, "Alicante": 128, "Valencia": 169},
    "Bilbao": {"Zaragoza": 295, "Santander": 105},
    "Pamplona": {"Zaragoza": 174, "Logroño": 94},
    "Ibiza": {"Palma de Mallorca": 165},
    "Jaén": {"Córdoba": 115, "Almería": 152},
    "Almería": {"Granada": 166, "Jaén": 152},
    "Santander": {"Bilbao": 105},
    "Logroño": {"Pamplona": 94}
}

nodos2 = ["Madrid", "Barcelona", "Valencia", "Sevilla", "Málaga", "Murcia", "Zaragoza", "Palma de Mallorca", 
         "Alicante", "Córdoba", "Granada", "Albacete", "Bilbao", "Pamplona", "Ibiza", "Jaén", "Almería", 
         "Santander", "Logroño"]

costes = {'Briviesca': {'Briviesca': 0, 'Villarcayo': 10, 'Villadiego': 20, 'Medina de Pomar': 30}, 'Villarcayo': {'Briviesca': 10, 'Villarcayo': 0, 'Villadiego': 10, 'Medina de Pomar': 20}, 'Villadiego': {'Briviesca': 20, 'Villarcayo': 10, 'Villadiego': 0, 'Medina de Pomar': 10}, 'Medina de Pomar': {'Briviesca': 30, 'Villarcayo': 20, 'Villadiego': 10, 'Medina de Pomar': 0}}
nodos = ['Briviesca', 'Villarcayo', 'Villadiego', 'Medina de Pomar']

red = RedComarcas(comarcas = nodos, costes = costes)


resultado = red.construir_carreteras()
coste = red.coste_total()
resultado


red.arbol_carreteras


def dict_a_grafo(diccionario):
    grafo = set()
    for origen, arcos in diccionario.items():
        for destino, coste in arcos.items():
            grafo.add((coste, origen, destino))
    return grafo


import networkx as nx
import matplotlib.pyplot as plt

def ver_grafo(grafo):
    G = nx.Graph()

    for arco in grafo:
        G.add_edge(arco[1], arco[2], weight=arco[0])

    pos = nx.spring_layout(G, k=0.9, iterations=20)

    nx.draw_networkx_nodes(G, pos, node_size=200, node_color="#99FF99")
    nx.draw_networkx_labels(G, pos, font_size=8, font_family="sans-serif")
    nx.draw_networkx_edges(G, pos, width=2, arrows=True, arrowstyle="-", edge_color='black')
    nx.draw_networkx_edge_labels(G, pos, edge_labels={(u, v): d['weight'] for u, v, d in G.edges(data=True)}, font_size=8)

    plt.axis('off')
    plt.show()



resultado



grafo = dict_a_grafo(costes)
ver_grafo(grafo)


res = dict_a_grafo(resultado)
ver_grafo(res)


import json
import unittest

def carga_dataset(data):
    with open(data) as f:
        test_datasets = json.load(f)

    sopas = list()
    for comarca in test_datasets["sopas"]:
        s_obj = Sopa(comarca["nombre"], comarca["coste"])
        for c, u in comarca["popularidad"].items():
            s_obj.set_popularidad(c, u)
        sopas.append(s_obj)

    restaurantes = dict()
    for comarca in test_datasets["restaurantes"]:
        restaurantes[comarca["nombre"]] = Restaurante(comarca["identificador"], comarca["nombre"], comarca["presupuesto"])


    carreteras = test_datasets["carreteras"]
    c_ = dict()
    for comarca in carreteras:
        c_[comarca] = dict()
        for c in carreteras[comarca]:
            c_[comarca][c] = carreteras[comarca][c]
    
    print("keys de entrada: ",carreteras.keys())
    red = RedComarcas(carreteras.keys(), c_)

    return sopas, restaurantes, red


class TestBasico(unittest.TestCase):

    def test_ejemplo(self):

        s, r, c = carga_dataset("toy.json")

        restaurante_1 = r["El pintor"]
        restaurante_1.prepara(s)
        print("Popularidad total: ",restaurante_1.popularidad_total())
        self.assertEqual(restaurante_1.popularidad_total(), 15.8)
        preparadas = restaurante_1.sopas_preparadas()
        print("Preparadas: ", preparadas)
        self.assertIn((Sopa("Sopa de castañas", 5), 0.8), preparadas)
        print(c.costes)
        carres = c.construir_carreteras()
        print("Carres: ", c.arbol_carreteras)
        self.assertEqual(c.coste_total(), 30)

if __name__ == '__main__':
    unittest.main(argv=['first-arg-is-ignored'], exit=False)
