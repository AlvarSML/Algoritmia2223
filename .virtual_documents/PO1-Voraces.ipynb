#testeable
# Imports útiles


#testeable
class Sopa:
    """
    Clase Sopa. 
    Representa una sopa o caldo.
    """    
    
    def __init__(self, nombre, coste):
        """Crea un objeto de clase Sopa

        Parameters
        ----------
        nombre : str
            Nombre de la sopa
        coste : number
            Coste de hacer una olla de sopa
        """
        self.nombre = nombre
        self.coste = coste
    
    def __hash__(self):
        """Genera el valor hash identificativo de la sopa

        Returns
        -------
        int
            Valor hash
        """        
        pass
        
    def __str__(self):
        """Genera una cadena descriptiva del objeto

        Returns
        -------
        str
            Cadena descriptiva
        """        
        pass
        
    def __repr__(self):
        """Genera una cadena descriptiva del objeto dentro de colecciones

        Returns
        -------
        str
            Cadena descriptiva
        """  
        pass
               
    def set_popularidad(self, restaurante, pedidos):
        """Dado un restuarante y un número de pedidos anteriores,
           almacena para esta sopa la popularidad que tiene.

        Parameters
        ----------
        restaurante : str
            Restaurante donde se ha pedido esta sopa o caldo
        pedidos : int
            Número de pedidos anteriores
        """        
        pass
            
    def get_popularidad(self, restaurante):
        """Dado un restaurante, obtiene la popularidad de la sopa

        Parameters
        ----------
        restaurante : str
            Restaurante donde se vende esta sopa o caldo

        Returns
        -------
        int
            Popularidad de la sopa en el restaurante
        """        
        pass
        
    """Funciones del profesor"""
    def __eq__(self, obj):
        return self.nombre == obj.nombre and self.coste == obj.coste
    
    def __lt__(self, obj):
        return self.coste < obj.coste



#testeable
class Restaurante:
    """
    Clase del restuarante de Sopas y Caldos SL.
    """
    
    def __init__(self, identificador, nombre, presupuesto):
        """Instancia un Restaurante

        Parameters
        ----------
        identificador : int
            Valor que identifica el restaurante.
        nombre : str
            Nombre del restaurante.
        presupuesto : int
            Cantidad de dinero para hacer las ollas de sopa en un día.
        """
        self.identificador = identificador
        self.nombre = nombre
        self.presupuesto = presupuesto
        
    def __hash__(self):
        """Genera el valor hash identificativo del restaurante

        Returns
        -------
        int
            Valor hash
        """     
        pass
        
    def __str__(self):
        """Genera una cadena descriptiva del objeto

        Returns
        -------
        str
            Cadena descriptiva
        """      
        pass
        
    def __repr__(self):
        """Genera una cadena descriptiva del objeto en colecciones

        Returns
        -------
        str
            Cadena descriptiva
        """      
        pass
            
    def prepara(self, sopas):
        """Dada una colección de sopas o caldos,
           seleccionar de cada uno cuanta cantidad (entre 0 y 1)
           se van a preparar.
           Se ha de optimizar la popularidad para que sea la máxima posible.

        Parameters
        ----------
        sopas : collection
            Colección de sopas que se pueden preparar.
        """
        pass
            
    def cantidad_preparada(self, sopa):
        """Obtiene la cantidad de sopa preparada en el restaurante.

        Parameters
        ----------
        sopa : Sopa object
            Sopa del cual se quiere saber la cantidad preparada

        Returns
        -------
        float
            Cantidad de sopa preparada en el restaurante.          
        """ 
        pass
    
    def sopas_preparadas(self):
        """Sopas preparadas en el restaurante

        Returns
        -------
        set
            Conjunto de tuplas (sopa, cantidad) de las sopas PREPARADAS en el restaurante.          
        """ 
        pass
    
    def popularidad_total(self):
        """A partir de las sopas preparadas
           devolver la popularidad proporcional a la cantidad de sopa preparada.

        Returns
        -------
        number
            Popularidad proporcional a la cantidad de sopa preparada.            
        """        
        pass
    


#testeable
class RedComarcas:
    """
    Red de comarcas para conectar con carreteras.
    """
    
    def __init__(self, comarcas, costes):
        """Instancia de la red de comarcas

        Parameters
        ----------
        comarcas : Iterable
            Conjunto de Comarcas disponibles
        distancias : dict{str (Nombre comarca): dict{str (Nombre comarca): int}}
            Grafo de costes de una carretera entre dos comarcas.
        """        
        self.comarcas = set(comarcas)
        self.costes = costes        
          
    def construir_carreteras(self):
        """A partir del grafo de costes
           hacer una selección de carreteras que conecten todas las comarcas
           con el menor coste posible. Todas las comarcas deben estar conectadas a la red.
        """
        pass

    def get_grafo(self):
        """Devuelve el grafo de costes recibido

        Returns
        -------
        dict{str (Nombre comarca): dict{str (Nombre comarca): int}}
            Grafo de costes de una carretera entre dos comarcas.
        """        
        return self.costes

    def get_carreteras(self):
        """Devuelve el grafo de carreteras a construir

        Returns
        -------
        Iterable
            Grafo de carreteras a construir
        """        
        pass

    def coste_total(self):
        """Devuelve el coste total de las carreteras a construir

        Returns
        -------
        int
            Coste total de las carreteras a construir
        """        
        pass


import json
import unittest

def carga_dataset(data):
    with open(data) as f:
        test_datasets = json.load(f)

    sopas = list()
    for comarca in test_datasets["sopas"]:
        s_obj = Sopa(comarca["nombre"], comarca["coste"])
        for c, u in comarca["popularidad"].items():
            s_obj.set_popularidad(c, u)
        sopas.append(s_obj)

    restaurantes = dict()
    for comarca in test_datasets["restaurantes"]:
        restaurantes[comarca["nombre"]] = Restaurante(comarca["identificador"], comarca["nombre"], comarca["presupuesto"])


    carreteras = test_datasets["carreteras"]
    c_ = dict()
    for comarca in carreteras:
        c_[comarca] = dict()
        for c in carreteras[comarca]:
            c_[comarca][c] = carreteras[comarca][c]

    red = RedComarcas(carreteras.keys(), c_)

    return sopas, restaurantes, red


class TestBasico(unittest.TestCase):
    
    def test_ejemplo(self):
        
        s, r, c = carga_dataset("toy.json")

        restaurante_1 = r["El pintor"]
        restaurante_1.prepara(s)
        self.assertEqual(restaurante_1.popularidad_total(), 15.8)
        preparadas = restaurante_1.sopas_preparadas()
        self.assertIn((Sopa("Sopa de castañas", 5), 0.8), preparadas)
        
        c.construir_carreteras()
        self.assertEqual(c.coste_total(), 30)

if __name__ == '__main__':
    unittest.main(argv=['first-arg-is-ignored'], exit=False)
