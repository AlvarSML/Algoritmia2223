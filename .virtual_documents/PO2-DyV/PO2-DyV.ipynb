#testeable
import math
# Imports útiles
from collections import Counter
import random

# No son nativas, pero se usan solo para visualizaciones
import numpy as np
import matplotlib.pyplot as plt
import timeit

plt.rcParams['figure.figsize'] = [10, 6]


#testeable
# Versión ligeramente modificada de la práctica anterior que incluye
# un campo entero id que identifica el tipo de Sopa
class Sopa:
    """
    Clase Sopa. 
    Representa una sopa o caldo.
    """

    def __init__(self, nombre, coste, id):
        """Crea un objeto de clase Sopa

        Parameters
        ----------
        nombre : str
            Nombre de la sopa
        coste : number
            Coste de hacer una olla de sopa
        """
        self.nombre = nombre
        self.coste = coste
        self.id = id

    def __hash__(self):
        """Genera el valor hash identificativo de la sopa

        Returns
        -------
        int
            Valor hash
        """
        return hash(self.id)

    def __str__(self):
        """Genera una cadena descriptiva del objeto

        Returns
        -------
        str
            Cadena descriptiva
        """
        return (f"[Sopa({self.id}): {self.nombre}@{self.coste}€]")
        #return f"[{self.id}]"

    def __repr__(self):
        """Genera una cadena descriptiva del objeto dentro de colecciones

        Returns
        -------
        str
            Cadena descriptiva
        """
        return (f"Sopa({self.id})[{self.nombre}@{self.coste}€]")
        #return f"[{self.id}]"

    """Funciones del profesor"""
    def __eq__(self, obj):
        return self.nombre == obj.nombre and self.id == obj.id
    
    def __lt__(self, obj):
        return self.id < obj.id


#testeable
def key_sort__(seq, key_function=lambda x:x, reverse=False):
    """Ordena ascendentemente una secuencia utilizando una función clave.

    Parameters
    ----------
    seq : sequence
        Secuencia a ordenar, por ejemplo una lista
    key_function : int
        Función que devuelve para los elementos de la secuencia un valor
        clave para la ordenación
    reverse: boolean
        Si es True Invierte el orden de la ordenación.

    Notes
    -----
    No tiene retorno. Ordena en el sitio la secuencia de entrada.
    """

    def heapin(lista, heapsize, pos_elem):
        minimo = pos_elem
        izq = 2 * pos_elem + 1  # hijo izq
        der = 2 * pos_elem + 2  # hijo der

        # Si el hijo izq es menor que el padre
        if izq < heapsize and key_function(lista[izq]) > key_function(lista[pos_elem]):
            minimo = izq

        # Si el hijo der es menor que el padre o el anterior minimo
        if der < heapsize and key_function(lista[der]) > key_function(lista[minimo]):
            minimo = der

        # si ha habido un cambio se cambian de posicion
        # cambia (padre, minimo) a (minimo, padre)
        if minimo != pos_elem:
            (lista[pos_elem], lista[minimo]) = (lista[minimo], lista[pos_elem])
            # Llamada recursiva con el nuevo minimo
            heapin(lista, heapsize, minimo)

    longitud = len(seq)

    # Desde el primer elemto al ultimo padre (longitud/2 -1)
    for elemento in range(longitud // 2 - 1):
        heapin(seq, longitud, elemento)

    # Extraccion de elementos
    for i in range(longitud - 1, 0, -1):
        (seq[i], seq[0]) = (seq[0], seq[i])  # swap
        heapin(seq, i, 0)


#testeable
def key_sort(seq, key_function=lambda x: x, reverse=False):
    """Ordena ascendentemente una secuencia utilizando una función clave.

    Parameters
    ----------
    seq : sequence
        Secuencia a ordenar, por ejemplo una lista
    key_function : int
        Función que devuelve para los elementos de la secuencia un valor
        clave para la ordenación
    reverse: boolean
        Si es True Invierte el orden de la ordenación.

    Notes
    -----
    No tiene retorno. Ordena en el sitio la secuencia de entrada.
    """
    def quicksort(seq, inicio, fin, reverse):
        '''
        Ordenacion para las sublistas
        '''
        # Caso fin de recursividad
        if inicio >= fin:
            return

        # El pivote es el resultado de ordenar otra sublista
        i_pivote = particion(seq, inicio, fin, reverse)

        # listas de la izq y der
        quicksort(seq, inicio, i_pivote - 1, reverse)
        quicksort(seq, i_pivote + 1, fin, reverse)

    def comparacion(a, b, reverse):
        return a > b if reverse else a < b

    def particion(seq, inicio, fin, reverse):
        '''
        Situa el pivote
        '''
        # print("**************************************")
        # print("Particion de lista: ", seq[inicio:fin])
        # Se comienza al final (CAMBIABLE)
        piv = seq[fin]  # Valor pivote
        piv_i = inicio - 1  # Indice del pivote

        for i in range(inicio, fin):
            # print(f"piv: {piv}, i_piv: {piv_i}, i: {i}-{seq[i]}")
            if comparacion(key_function(seq[i]), key_function(piv), reverse)\
                    or key_function(seq[i]) == key_function(piv):
                piv_i += 1
                (seq[piv_i], seq[i]) = (seq[i], seq[piv_i])
                # print("Incremento de pivote_i")

        (seq[piv_i + 1], seq[fin]) = (seq[fin], seq[piv_i + 1])
        # print("Pivote: ", seq[piv_i+1], " indice ", piv_i+1)
        # hacemos un incremento de mas
        return piv_i + 1

    quicksort(seq, 0, len(seq)-1, reverse)



def intermedio(arr):
    if arr[0] <= arr[1] <= arr[2] or arr[2] <= arr[1] <= arr[0]:
        return 1
    elif arr[1] <= arr[0] <= arr[2] or arr[2] <= arr[0] <= arr[1]:
        return 0
    else:
        return 2


## Pruebas


def quicksort_optimo(seq, key_function=lambda x: x, reverse=False):

    def comparacion(a, b, reverse):
        return a > b if reverse else a < b

    def quicksort(seq, inicio, fin):
        '''
        Ordenacion para las sublistas
        '''
        # Caso fin de recursividad
        if inicio >= fin:
            return

        # El pivote es el resultado de ordenar otra sublista
        i_pivote = particion(seq, inicio, fin)

        # listas de la izq y der
        quicksort(seq, inicio, i_pivote - 1)
        quicksort(seq, i_pivote + 1, fin)

    def particion(seq, inicio, fin):
        '''
        Situa el pivote
        '''
        if len(seq) <= 3:
            seq.sort()
            # print("SEQUENCIA MENOR")
            # print(seq)
            # print("-----")
            return seq

        #print(seq)

        # Se cogen el primer, ultimo y medio valores para sacar el intermedio
        # Nunca se produce el 'peor' caso
        pivotes = [inicio, (inicio+fin)//2, fin]
        valores = [seq[pivotes[0]], seq[pivotes[1]], seq[pivotes[2]]]

        i_pivote = intermedio(valores)
        pivote = valores[i_pivote]
        #  print(f"se escoge el {pivote} como pivote")
        # Listas de mayores y menores + pivote
        mayores = []
        menores = []
        pivote_l = []

        for i in range(inicio, fin+1):
            # Si el valor es menor o igual que el pivote se produce el intercambio
            if comparacion(key_function(seq[i]), key_function(pivote), reverse):
                menores.append(seq[i])
            elif key_function(seq[i]) == key_function(pivote):
                pivote_l.append(seq[i])
            else:
                mayores.append(seq[i])

        menores = particion(menores, 0, len(menores)-1)
        mayores = particion(mayores, 0, len(mayores)-1)

        return (menores + pivote_l + mayores)

    return particion(seq, 0, len(seq)-1)


lista = random.sample(range(0, 10), 10)
print(lista)
lista = quicksort_optimo(lista)
lista


import math

ns = np.linspace(10, 1000, 70, dtype=int)

def test_optimo(ns):
# Comparacion de tiempos, de 100 valores a 10e10 con aumoentos de 10
    resultados = []
    for i in ns:
        lista_test = [random.randint(1, 100) for x in range(i)]
        test = timeit.Timer(lambda: quicksort_optimo(lista_test, key_function=lambda x: x))
        resultados.append(test.timeit(5))
    return resultados

def test_malo(ns):
# Comparacion de tiempos, de 100 valores a 10e10 con aumoentos de 10
    resultados = []
    for i in ns:
        lista_test = [random.randint(1, 100) for x in range(i)]
        test = timeit.Timer(lambda: key_sort(lista_test, key_function=lambda x: x))
        resultados.append(test.timeit(5))
    return resultados

def test_heap(ns):
# Comparacion de tiempos, de 100 valores a 10e10 con aumoentos de 10
    resultados = []
    for i in ns:
        lista_test = [random.randint(1, 100) for x in range(i)]
        test = timeit.Timer(lambda: key_sort__(lista_test, key_function=lambda x: x))
        resultados.append(test.timeit(5))
    return resultados

res_heap = test_heap(ns)
res_amlo = test_optimo(ns)
res_optimo = test_malo(ns)

plt.plot(ns, (ns**2)/1_000_000, '-b')
plt.plot(ns, res_amlo, 'or')
plt.plot(ns, res_optimo, 'ob')
plt.plot(ns, (ns * np.log(ns))/500_000, '-g')
plt.plot(ns, res_heap, 'og')


plt.plot(ns, res_amlo, 'or')
plt.plot(ns, (ns * np.log(ns))/500_000, '-b')
plt.plot(ns, res_heap, 'og')


# Catálogo de sopas, caldos y estofados
s0 = Sopa("Sopa de pollo", 2, 0) # nombre, coste, id
s1 = Sopa("Vichyssoise", 4, 1)
s2 = Sopa("Crema de espárragos", 1.5, 2)
s3 = Sopa("Sopa de cocido", 1.2, 3)
s4 = Sopa("Caldo montañés", 5, 4)
s5 = Sopa("Sopa de langosta", 9, 5)

# registro de ventas
registro_test = [s1, s0, s2, s3, s1, s3, s4, s0, s0, s0]
print(registro_test)
key_sort(registro_test, key_function=lambda x: x.coste)

#Listas aleatorias ordenadas
lista_test = random.sample(range(1000, 10000), 100)
key_sort(lista_test, key_function=lambda x: x)

print(lista_test)


#testeable
def divide_venceras(seq):
    ocurrencias = {}
    # Implementamos busqueda binaria para mirar el primer y ultimo elemento de 
    # los segmentos
    # Lista global?
    def calc_segmento(seq, inicio, fin):
        if seq[inicio] == seq[fin]:
            return {seq[inicio]: (fin - inicio) + 1}
        else:
            medio = (inicio + fin) // 2
            return Counter(calc_segmento(seq, inicio, medio)) + Counter(calc_segmento(seq, medio+1, fin))
    
    return calc_segmento(seq, 0, len(seq)-1)
    
def fuerza_bruta(seq):
    ocurrencias = {}

    for val in seq:
        if val in ocurrencias:
            ocurrencias[val] = ocurrencias[val] + 1
        else:
            ocurrencias[val] = 1
    return ocurrencias

#testeable
def calcula_popularidad(registro, method="bruteforce"):
    """Calcula la popularidad de cada tipo de sopa.

    Parameters
    ----------
    registro : sequence
        Secuencia de unidades vendidas de tipo Sopa
    method: String
        Algoritmo a emplear, 'bruteforce' o 'divideandconquer'.

    Returns
    -------
    dict
        Diccionario de tipos únicos de sopa (claves) y unidades
        vedidas de cada tipo (valores). El resultado sólo contiene
        claves para los tipos de sopa con al menos una ud. vendida

    Notes
    -----
    Si se emplea el método "divideandconquer" se asume que registro
    está ordenado por tipo de sopa.

    """

    if method == "bruteforce":
        # Los elementos no estan ordenados
        return fuerza_bruta(registro)
    elif method == "divideandconquer":
        return divide_venceras(registro)
    pass



fun = lambda x: x*2
fun(3)


ns = np.linspace(10, 4_000, 200, dtype=int)

def test(ns, tipo="bruteforce"):
# Comparacion de tiempos, de 100 valores a 10e10 con aumoentos de 10
    resultados = []
    for i in ns:
        lista_test = [random.randint(1, 100) for x in range(i)]
        key_sort(lista_test, key_function=lambda x: x)
        test = timeit.Timer(lambda: calcula_popularidad(lista_test, tipo))
        resultados.append(test.timeit(5))
    return resultados


res = test(ns, tipo="bruteforce")
plt.plot(ns, res, 'or')


res = test(ns, tipo="divideandconquer")
plt.plot(ns, res, 'or')


import unittest,random

# Catálogo de sopas, caldos y estofados
s0 = Sopa("Sopa de pollo", 2, 0) # nombre, coste, id
s1 = Sopa("Vichyssoise", 4, 1)
s2 = Sopa("Crema de espárragos", 1.5, 2)
s3 = Sopa("Sopa de cocido", 1.2, 3)
s4 = Sopa("Caldo montañés", 5, 4)
s5 = Sopa("Sopa de langosta", 9, 5)

# registro de ventas
registro_test = [s1, s0, s2 ,s3, s1, s3, s4, s0, s0, s0]
registro_ordendao = [s0, s0, s0 ,s0, s0, s0, s3, s4, s4, s4]

calcula_popularidad(registro_ordendao, method="divideandconquer")


class TestKeySort(unittest.TestCase):

    def test_basic_sort(self):
        v = list(range(100))
        random.seed = 1234
        random.shuffle(v)
        key_sort(v)
        self.assertEqual(v, list(range(100))) 

    def test_sopas_sort(self):
        v = registro_test.copy()
        key_sort(v) # ordena por el criterio de comparación definido en Sopa(id)
        self.assertEqual(v, list(sorted(registro_test)))

        key_sort(v, key_function=lambda x:x.coste, reverse=True)
        self.assertEqual(v, list(sorted(registro_test, key=lambda x: x.coste, reverse = True)))

class TestPopularidad(unittest.TestCase):

    def test_popularidad_basico(self):
        self.assertDictEqual (calcula_popularidad(registro_test),
                              {s0: 4, s1: 2, s2: 1, s3: 2, s4: 1})
        self.assertDictEqual (calcula_popularidad(sorted(registro_test), method="divideandconquer"),
                              {s0: 4, s1: 2, s2: 1, s3: 2, s4: 1})
        self.assertDictEqual (calcula_popularidad(sorted(registro_test*2), method="divideandconquer"),
                              {s0: 8, s1: 4, s2: 2, s3: 4, s4: 2})
        self.assertDictEqual (calcula_popularidad([s0]*40+[s1]*50+[s2]*60),
                              {s0: 40, s1: 50, s2: 60})  
        self.assertDictEqual (calcula_popularidad([s0]*40+[s1]*50+[s2]*60, method="divideandconquer"),
                              {s0: 40, s1: 50, s2: 60})       

if __name__ == "__main__":
    unittest.main(argv=['first-arg-is-ignored'], exit=False)
    
