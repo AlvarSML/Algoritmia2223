#testeable
import math
# Imports útiles


#testeable
# Versión ligeramente modificada de la práctica anterior que incluye
# un campo entero id que identifica el tipo de Sopa
class Sopa:
    """
    Clase Sopa. 
    Representa una sopa o caldo.
    """

    def __init__(self, nombre, coste, id):
        """Crea un objeto de clase Sopa

        Parameters
        ----------
        nombre : str
            Nombre de la sopa
        coste : number
            Coste de hacer una olla de sopa
        """
        self.nombre = nombre
        self.coste = coste
        self.id = id

    def __hash__(self):
        """Genera el valor hash identificativo de la sopa

        Returns
        -------
        int
            Valor hash
        """
        return hash(self.id)

    def __str__(self):
        """Genera una cadena descriptiva del objeto

        Returns
        -------
        str
            Cadena descriptiva
        """
        return (f"[Sopa: {self.nombre}@{self.coste}€]")

    def __repr__(self):
        """Genera una cadena descriptiva del objeto dentro de colecciones

        Returns
        -------
        str
            Cadena descriptiva
        """
        return (f"Sopa[{self.nombre}@{self.coste}€]")

    """Funciones del profesor"""
    def __eq__(self, obj):
        return self.nombre == obj.nombre and self.id == obj.id
    
    def __lt__(self, obj):
        return self.id < obj.id


#testeable
def key_sort(seq, key_function=lambda x:x, reverse=False):
    """Ordena ascendentemente una secuencia utilizando una función clave.

    Parameters
    ----------
    seq : sequence
        Secuencia a ordenar, por ejemplo una lista
    key_function : int
        Función que devuelve para los elementos de la secuencia un valor
        clave para la ordenación
    reverse: boolean
        Si es True Invierte el orden de la ordenación.
    
    Notes
    -----
    No tiene retorno. Ordena en el sitio la secuencia de entrada.
    """
    def insertar(lista, inicio, fin):
        root = inicio

        while True:
            # Localizacion en un heap en una lista no enlazada
            # de la posicion del primer hijo del elemento actual
            print(root)
            hijo = inicio * 2 + 1
            # Si la posicion del hijo no existe
            if hijo > fin:
                break
            # Comprobamos que se pueda insertar en el nivel actual
            if hijo + 1 <= fin and lista[hijo] < lista[hijo+1]:
                hijo += 1

            # Si el hijo esmenor que la raiz del heap se intercambian
            if lista[root] < lista[hijo]:
                lista[root], lista[hijo] = lista[hijo], lista[root]
                # Se va bajando por el monticulo para la sig iteracion
                root = hijo
            else:
                # No se baja mas
                break
    # decremento hasta -1
    for i in range(math.floor(len(seq)/2), -1, -1):
        insertar(seq, i, len(seq)-1)
    pass



# Catálogo de sopas, caldos y estofados
s0 = Sopa("Sopa de pollo", 2, 0) # nombre, coste, id
s1 = Sopa("Vichyssoise", 4, 1)
s2 = Sopa("Crema de espárragos", 1.5, 2)
s3 = Sopa("Sopa de cocido", 1.2, 3)
s4 = Sopa("Caldo montañés", 5, 4)
s5 = Sopa("Sopa de langosta", 9, 5)

# registro de ventas
registro_test = [s1, s0, s2 ,s3, s1, s3, s4, s0, s0, s0]

key_sort(registro_test)


#testeable
def calcula_popularidad(registro, method="bruteforce"):
    """Calcula la popularidad de cada tipo de sopa.

    Parameters
    ----------
    registro : sequence
        Secuencia de unidades vendidas de tipo Sopa
    method: String
        Algoritmo a emplear, 'bruteforce' o 'divideandconquer'.
    
    Returns
    -------
    dict
        Diccionario de tipos únicos de sopa (claves) y unidades
        vedidas de cada tipo (valores). El resultado sólo contiene
        claves para los tipos de sopa con al menos una ud. vendida
        
    Notes
    -----
    Si se emplea el método "divideandconquer" se asume que registro
    está ordenado por tipo de sopa. 
    
    """    
    pass










import unittest,random

# Catálogo de sopas, caldos y estofados
s0 = Sopa("Sopa de pollo", 2, 0) # nombre, coste, id
s1 = Sopa("Vichyssoise", 4, 1)
s2 = Sopa("Crema de espárragos", 1.5, 2)
s3 = Sopa("Sopa de cocido", 1.2, 3)
s4 = Sopa("Caldo montañés", 5, 4)
s5 = Sopa("Sopa de langosta", 9, 5)

# registro de ventas
registro_test = [s1, s0, s2 ,s3, s1, s3, s4, s0, s0, s0]

class TestKeySort(unittest.TestCase):
    
    def test_basic_sort(self):
        v = list(range(100))
        random.seed = 1234
        random.shuffle(v)
        key_sort(v)
        self.assertEqual(v, list(range(100))) 
    
    def test_sopas_sort(self):
        v = registro_test.copy()
        key_sort(v) # ordena por el criterio de comparación definido en Sopa(id)
        self.assertEqual(v,list(sorted(registro_test)))
        
        key_sort(v, key_function=lambda x:x.coste, reverse=True)
        self.assertEqual(v,list(sorted(registro_test,key=lambda x:x.coste, reverse = True)))

class TestPopularidad(unittest.TestCase):
    
    def test_popularidad_basico(self):
        self.assertDictEqual (calcula_popularidad(registro_test),
                              {s0: 4, s1: 2, s2: 1, s3: 2, s4: 1})
        self.assertDictEqual (calcula_popularidad(sorted(registro_test), method="divideandconquer"),
                              {s0: 4, s1: 2, s2: 1, s3: 2, s4: 1})
        self.assertDictEqual (calcula_popularidad(sorted(registro_test*2), method="divideandconquer"),
                              {s0: 8, s1: 4, s2: 2, s3: 4, s4: 2})
        self.assertDictEqual (calcula_popularidad([s0]*40+[s1]*50+[s2]*60),
                              {s0: 40, s1: 50, s2: 60})  
        self.assertDictEqual (calcula_popularidad([s0]*40+[s1]*50+[s2]*60, method="divideandconquer"),
                              {s0: 40, s1: 50, s2: 60})       

if __name__ == "__main__":
    unittest.main(argv=['first-arg-is-ignored'], exit=False)
    
