{
 "cells": [
  {
   "cell_type": "markdown",
   "metadata": {},
   "source": [
    "## Algoritmia\n",
    "### Iteradores y Generadores I"
   ]
  },
  {
   "cell_type": "markdown",
   "metadata": {},
   "source": [
    "Se pide la implementación de las funciones que aparecen a continuación. \n",
    "\n",
    "En el cuerpo de cada función hay una instrucción `pass`, se debe sustituir por la implementación adecuada. \n",
    "\n",
    "Para cada función que se pide se proporciona una función con algunos tests. \n",
    "\n",
    "Al llamar a las funciones de test no debería saltar ninguna aserción."
   ]
  },
  {
   "cell_type": "markdown",
   "metadata": {},
   "source": [
    "### `iterador_con_sustitucion`"
   ]
  },
  {
   "cell_type": "code",
   "execution_count": 1,
   "metadata": {
    "tags": []
   },
   "outputs": [],
   "source": [
    "def iterador_con_sustitucion(iterable, cambios):\n",
    "    \"\"\"\n",
    "    Dado un iterable, genera sus valores una vez aplicadas las sustituciones \n",
    "    indicadas por el diccionario de cambios.\n",
    "    Los valores no hay que devolverlos todos a la vez, se deben generar de uno \n",
    "    en uno.\n",
    "    \"\"\"\n",
    "    for i in iterable:\n",
    "        if i in cambios:\n",
    "            yield cambios[i]\n",
    "        else:\n",
    "            yield i\n",
    "    pass"
   ]
  },
  {
   "cell_type": "code",
   "execution_count": 2,
   "metadata": {
    "jupyter": {
     "source_hidden": true
    },
    "tags": []
   },
   "outputs": [
    {
     "name": "stdout",
     "output_type": "stream",
     "text": [
      "OK\n"
     ]
    }
   ],
   "source": [
    "def test_iterador_con_sustitucion(): \n",
    "    \"\"\"\n",
    "    Casos de prueba para iterador_con_sustitucion().\n",
    "    \"\"\"\n",
    "    \n",
    "    for iterable, cambios, iterable_sustituido in (\n",
    "        ([1, 2, 3, 4, 1, 2], {2: 1, 1: 2, 3: 5}, [2, 1, 5, 4, 2, 1]),\n",
    "        ([1, 2, 3, 4, 1, 2] * 100, {2: 1, 1: 2, 3: 5}, \n",
    "            [2, 1, 5, 4, 2, 1] * 100),\n",
    "        (\"abcdb\" * 100, {'a': 'z', 'b': 'a', 'd': 'y'},\n",
    "            ['z', 'a', 'c', 'y', 'a'] * 100)\n",
    "    ):\n",
    "        assert (list(iterador_con_sustitucion(iterable, cambios)) \n",
    "                == iterable_sustituido)\n",
    "        it = iterador_con_sustitucion(iterable, cambios)\n",
    "        for e in iterable_sustituido:\n",
    "            assert e == next(it)\n",
    "            \n",
    "    for v in iterador_con_sustitucion(range(10**100), {0: 0}):\n",
    "        if v >= 100:\n",
    "            break\n",
    "            \n",
    "    return True\n",
    "            \n",
    "if __name__ == \"__main__\": \n",
    "    test_iterador_con_sustitucion()\n",
    "    print(\"OK\")  "
   ]
  },
  {
   "cell_type": "markdown",
   "metadata": {},
   "source": [
    "### `iterador_anidado`"
   ]
  },
  {
   "cell_type": "code",
   "execution_count": 127,
   "metadata": {
    "tags": []
   },
   "outputs": [],
   "source": [
    "import collections   # por si es necesario usar collections.Iterable\n",
    "from collections.abc import Iterable\n",
    "\n",
    "\n",
    "def iterador_anidado(elemento):\n",
    "    \"\"\"\n",
    "    Iterador que genera los valores en elemento recursivamente: si elemento no \n",
    "    es iterable genera solo elemento, pero si elemento es iterable genera sus\n",
    "    elementos de manera recursiva.\n",
    "    Los valores se deben generar de uno en uno.\n",
    "    \"\"\"\n",
    "    if (isinstance(elemento, Iterable)):\n",
    "        for i in elemento:\n",
    "            for x in iterador_anidado(i):\n",
    "                yield x\n",
    "    else:\n",
    "        yield elemento"
   ]
  },
  {
   "cell_type": "code",
   "execution_count": 128,
   "metadata": {},
   "outputs": [
    {
     "data": {
      "text/plain": [
       "[1, 2, 3, 4]"
      ]
     },
     "execution_count": 128,
     "metadata": {},
     "output_type": "execute_result"
    }
   ],
   "source": [
    "list(iterador_anidado([1, [2, [3], 4]]))"
   ]
  },
  {
   "cell_type": "code",
   "execution_count": 129,
   "metadata": {},
   "outputs": [
    {
     "name": "stdout",
     "output_type": "stream",
     "text": [
      "OK\n"
     ]
    }
   ],
   "source": [
    "def test_iterador_anidado():\n",
    "    \"\"\"\n",
    "    Casos de prueba para iterador_anidado()\n",
    "    \"\"\"\n",
    "    \n",
    "    assert isinstance([4], collections.Iterable)\n",
    "\n",
    "    assert not isinstance(4, collections.Iterable)\n",
    "    \n",
    "    assert list(iterador_anidado(4)) == [4]\n",
    "\n",
    "    assert list(iterador_anidado([4])) == [4]\n",
    "\n",
    "    assert list(iterador_anidado((4,))) == [4]\n",
    "\n",
    "    assert list(iterador_anidado([[4]])) == [4]\n",
    "\n",
    "    assert list(iterador_anidado([1, [2, [3], 4]])) == [1, 2, 3, 4]\n",
    "\n",
    "    l1 = []; l2 = []; l3 = []\n",
    "    for i in range(100):\n",
    "        l1 += [i]\n",
    "        l2 = [l2, i]\n",
    "        assert l1 == list(iterador_anidado(l2))\n",
    "        l3 = [(l3, [i])]\n",
    "        assert l1 == list(iterador_anidado(l3))\n",
    "        \n",
    "    for v in iterador_anidado(range(10**100)):\n",
    "        if v > 100:\n",
    "            break\n",
    "    \n",
    "    return True\n",
    "\n",
    "if __name__ == \"__main__\": \n",
    "    test_iterador_anidado()\n",
    "    print(\"OK\")"
   ]
  },
  {
   "cell_type": "markdown",
   "metadata": {},
   "source": [
    "### `generador_media_movil`"
   ]
  },
  {
   "cell_type": "code",
   "execution_count": 154,
   "metadata": {
    "tags": []
   },
   "outputs": [],
   "source": [
    "def generador_media_movil(iterable, longitud):\n",
    "    \"\"\"\n",
    "    Dado un iterable de valores numéricos, genera los valores de la media móvil \n",
    "    de la longitud indicada.\n",
    "    Por ejemplo, si la longitud es 3, generaría la media de los 3 primeros\n",
    "    valores, de los valores del 2º al 4º, de los valores del 3º al 5º...\n",
    "    Los valores se deben generar de uno en uno.\n",
    "    \"\"\"\n",
    "    ventana = []\n",
    "    for i in iterable:\n",
    "        ventana.append(i)\n",
    "        if len(ventana) == longitud:\n",
    "            yield sum(ventana) / longitud\n",
    "            ventana.pop(0)"
   ]
  },
  {
   "cell_type": "code",
   "execution_count": null,
   "metadata": {},
   "outputs": [],
   "source": []
  },
  {
   "cell_type": "code",
   "execution_count": 155,
   "metadata": {},
   "outputs": [
    {
     "name": "stdout",
     "output_type": "stream",
     "text": [
      "OK\n"
     ]
    }
   ],
   "source": [
    "def test_generador_media_movil(): \n",
    "    \"\"\"\n",
    "    Casos de prueba para generador_media_movil().\n",
    "    \"\"\"\n",
    "    \n",
    "    for secuencia in (list(range(10)), tuple(range(10)), range(10)):\n",
    "        assert (list(generador_media_movil(secuencia, 1))\n",
    "                == [0.0, 1.0, 2.0, 3.0, 4.0, 5.0, 6.0, 7.0, 8.0, 9.0])\n",
    "        assert (list(generador_media_movil(secuencia, 2))\n",
    "                == [0.5, 1.5, 2.5, 3.5, 4.5, 5.5, 6.5, 7.5, 8.5])\n",
    "        assert (list(generador_media_movil(secuencia, 3))\n",
    "                == [1.0, 2.0, 3.0, 4.0, 5.0, 6.0, 7.0, 8.0])   \n",
    "        assert (list(generador_media_movil(secuencia, 4)) \n",
    "                == [1.5, 2.5, 3.5, 4.5, 5.5, 6.5, 7.5])  \n",
    "        assert (list(generador_media_movil(secuencia, 5))\n",
    "                == [2.0, 3.0, 4.0, 5.0, 6.0, 7.0])  \n",
    "\n",
    "    assert list(generador_media_movil(range(100), 1)) == list(range(100))    \n",
    "    assert list(generador_media_movil(range(100), 3)) == list(range(1, 99))    \n",
    "    assert list(generador_media_movil(range(100), 5)) == list(range(2, 98))\n",
    "    \n",
    "    assert list(generador_media_movil(range(100), 2)) == [x + 0.5 for x in range(99)]\n",
    "    assert list(generador_media_movil(range(100), 4)) == [x + 1.5 for x in range(97)]\n",
    "\n",
    "    assert (list(generador_media_movil(range(100, 0, -1), 1)) \n",
    "            == list(range(100, 0, -1)))\n",
    "    assert (list(generador_media_movil(range(100, 0, -1), 3)) \n",
    "            == list(range(99, 1, -1)))\n",
    "    assert (list(generador_media_movil(range(100, 0, -1), 5)) \n",
    "            == list(range(98, 2, -1)))\n",
    "    \n",
    "    it = generador_media_movil(range(1000),4)\n",
    "    for v in range(997):\n",
    "        assert next(it) == v + 1.5 \n",
    "        \n",
    "    assert list(generador_media_movil([1, 2] * 1000, 2)) == [1.5] * 1999     \n",
    "    assert list(generador_media_movil([1, 2] * 1000, 3)) == [4/3, 5/3] * 999\n",
    "       \n",
    "    for v in generador_media_movil(range(10**100), 10):\n",
    "        if v >= 100:\n",
    "            break\n",
    "        \n",
    "    return True\n",
    "\n",
    "if __name__ == \"__main__\": \n",
    "    test_generador_media_movil()\n",
    "    print(\"OK\")"
   ]
  },
  {
   "cell_type": "markdown",
   "metadata": {},
   "source": [
    "### `iterador_incluido`"
   ]
  },
  {
   "cell_type": "code",
   "execution_count": 183,
   "metadata": {
    "tags": []
   },
   "outputs": [],
   "source": [
    "def iterador_incluido(itera_1, itera_2):\n",
    "    \"\"\"\n",
    "    Dado un primer iterador o iterable, comprueba que sus elementos están\n",
    "    incluidos en el mismo orden en los elementos del segundo iterador o \n",
    "    iterable.\n",
    "    \"\"\"\n",
    "    match = False\n",
    "    it1 = iter(itera_1)\n",
    "\n",
    "    for i in itera_2:\n",
    "        if (i == itera_1[0]):\n",
    "            match = True\n",
    "            next(it1)\n",
    "        elif (match):\n",
    "            try:\n",
    "                n = next(it1)\n",
    "                if n != i:\n",
    "                    return False\n",
    "            except StopIteration:\n",
    "                pass\n",
    "\n",
    "    try:\n",
    "        next(it1)\n",
    "        return False\n",
    "    except StopIteration:\n",
    "        return match"
   ]
  },
  {
   "cell_type": "code",
   "execution_count": 184,
   "metadata": {
    "jupyter": {
     "source_hidden": true
    },
    "tags": []
   },
   "outputs": [
    {
     "ename": "AssertionError",
     "evalue": "",
     "output_type": "error",
     "traceback": [
      "\u001b[0;31m---------------------------------------------------------------------------\u001b[0m",
      "\u001b[0;31mAssertionError\u001b[0m                            Traceback (most recent call last)",
      "Cell \u001b[0;32mIn [184], line 30\u001b[0m\n\u001b[1;32m     27\u001b[0m     \u001b[38;5;28;01mreturn\u001b[39;00m \u001b[38;5;28;01mTrue\u001b[39;00m\n\u001b[1;32m     29\u001b[0m \u001b[38;5;28;01mif\u001b[39;00m \u001b[38;5;18m__name__\u001b[39m \u001b[38;5;241m==\u001b[39m \u001b[38;5;124m\"\u001b[39m\u001b[38;5;124m__main__\u001b[39m\u001b[38;5;124m\"\u001b[39m: \n\u001b[0;32m---> 30\u001b[0m     \u001b[43mtest_iterador_incluido\u001b[49m\u001b[43m(\u001b[49m\u001b[43m)\u001b[49m\n\u001b[1;32m     31\u001b[0m     \u001b[38;5;28mprint\u001b[39m(\u001b[38;5;124m\"\u001b[39m\u001b[38;5;124mOK\u001b[39m\u001b[38;5;124m\"\u001b[39m)\n",
      "Cell \u001b[0;32mIn [184], line 13\u001b[0m, in \u001b[0;36mtest_iterador_incluido\u001b[0;34m()\u001b[0m\n\u001b[1;32m     10\u001b[0m \u001b[38;5;28;01massert\u001b[39;00m \u001b[38;5;129;01mnot\u001b[39;00m iterador_incluido(\u001b[38;5;28mrange\u001b[39m(\u001b[38;5;241m100\u001b[39m), \u001b[38;5;28mrange\u001b[39m(\u001b[38;5;241m99\u001b[39m))\n\u001b[1;32m     11\u001b[0m \u001b[38;5;28;01massert\u001b[39;00m \u001b[38;5;129;01mnot\u001b[39;00m iterador_incluido(\u001b[38;5;28mrange\u001b[39m(\u001b[38;5;241m100\u001b[39m), \u001b[38;5;28mrange\u001b[39m(\u001b[38;5;241m1\u001b[39m, \u001b[38;5;241m100\u001b[39m))\n\u001b[0;32m---> 13\u001b[0m \u001b[38;5;28;01massert\u001b[39;00m iterador_incluido(\u001b[38;5;28mrange\u001b[39m(\u001b[38;5;241m10\u001b[39m, \u001b[38;5;241m90\u001b[39m, \u001b[38;5;241m3\u001b[39m), \u001b[38;5;28mrange\u001b[39m(\u001b[38;5;241m100\u001b[39m))\n\u001b[1;32m     14\u001b[0m \u001b[38;5;28;01massert\u001b[39;00m \u001b[38;5;129;01mnot\u001b[39;00m iterador_incluido(\u001b[38;5;28mrange\u001b[39m(\u001b[38;5;241m10\u001b[39m, \u001b[38;5;241m110\u001b[39m, \u001b[38;5;241m3\u001b[39m), \u001b[38;5;28mrange\u001b[39m(\u001b[38;5;241m100\u001b[39m))\n\u001b[1;32m     16\u001b[0m \u001b[38;5;28;01massert\u001b[39;00m \u001b[38;5;129;01mnot\u001b[39;00m iterador_incluido(\u001b[38;5;28mrange\u001b[39m(\u001b[38;5;241m10\u001b[39m, \u001b[38;5;241m110\u001b[39m, \u001b[38;5;241m3\u001b[39m), \u001b[38;5;28mrange\u001b[39m(\u001b[38;5;241m100\u001b[39m))    \n",
      "\u001b[0;31mAssertionError\u001b[0m: "
     ]
    }
   ],
   "source": [
    "def test_iterador_incluido():\n",
    "    \"\"\"\n",
    "    Casos de prueba para iterador_incluido().\n",
    "    \"\"\"\n",
    "    \n",
    "    assert iterador_incluido(range(100), range(100))     \n",
    "    assert iterador_incluido(range(99), range(100))     \n",
    "    assert iterador_incluido(range(1,100), range(100))     \n",
    "\n",
    "    assert not iterador_incluido(range(100), range(99))\n",
    "    assert not iterador_incluido(range(100), range(1, 100))\n",
    "    \n",
    "    assert iterador_incluido(range(10, 90, 3), range(100))\n",
    "    assert not iterador_incluido(range(10, 110, 3), range(100))\n",
    "\n",
    "    assert not iterador_incluido(range(10, 110, 3), range(100))    \n",
    "    \n",
    "    l = list(range(10, 90, 3))\n",
    "    assert iterador_incluido(l, range(100))\n",
    "    l[20] = 11\n",
    "    assert not iterador_incluido(l, range(100))\n",
    "    assert not iterador_incluido(iter(l), range(100))\n",
    "    \n",
    "    assert iterador_incluido(range(1000), range(10**100))\n",
    "    assert not iterador_incluido(range(10**100), range(1000))\n",
    "    \n",
    "    return True\n",
    "    \n",
    "if __name__ == \"__main__\": \n",
    "    test_iterador_incluido()\n",
    "    print(\"OK\")    "
   ]
  },
  {
   "cell_type": "code",
   "execution_count": 172,
   "metadata": {},
   "outputs": [
    {
     "ename": "NameError",
     "evalue": "name 'iti' is not defined",
     "output_type": "error",
     "traceback": [
      "\u001b[0;31m---------------------------------------------------------------------------\u001b[0m",
      "\u001b[0;31mNameError\u001b[0m                                 Traceback (most recent call last)",
      "Cell \u001b[0;32mIn [172], line 1\u001b[0m\n\u001b[0;32m----> 1\u001b[0m \u001b[43miterador_incluido\u001b[49m\u001b[43m(\u001b[49m\u001b[38;5;28;43mrange\u001b[39;49m\u001b[43m(\u001b[49m\u001b[38;5;241;43m1\u001b[39;49m\u001b[43m,\u001b[49m\u001b[38;5;241;43m100\u001b[39;49m\u001b[43m)\u001b[49m\u001b[43m,\u001b[49m\u001b[43m \u001b[49m\u001b[38;5;28;43mrange\u001b[39;49m\u001b[43m(\u001b[49m\u001b[38;5;241;43m100\u001b[39;49m\u001b[43m)\u001b[49m\u001b[43m)\u001b[49m\n",
      "Cell \u001b[0;32mIn [170], line 12\u001b[0m, in \u001b[0;36miterador_incluido\u001b[0;34m(itera_1, itera_2)\u001b[0m\n\u001b[1;32m     10\u001b[0m \u001b[38;5;28;01mif\u001b[39;00m (i \u001b[38;5;241m==\u001b[39m itera_1[\u001b[38;5;241m0\u001b[39m]):\n\u001b[1;32m     11\u001b[0m     match \u001b[38;5;241m=\u001b[39m \u001b[38;5;28;01mTrue\u001b[39;00m\n\u001b[0;32m---> 12\u001b[0m     \u001b[38;5;28mnext\u001b[39m(\u001b[43miti\u001b[49m)\n\u001b[1;32m     13\u001b[0m \u001b[38;5;28;01melif\u001b[39;00m (match):\n\u001b[1;32m     14\u001b[0m     n \u001b[38;5;241m=\u001b[39m \u001b[38;5;28mnext\u001b[39m(it1)\n",
      "\u001b[0;31mNameError\u001b[0m: name 'iti' is not defined"
     ]
    }
   ],
   "source": [
    "iterador_incluido(range(1,100), range(100)) "
   ]
  },
  {
   "cell_type": "code",
   "execution_count": 169,
   "metadata": {},
   "outputs": [
    {
     "data": {
      "text/plain": [
       "[1,\n",
       " 2,\n",
       " 3,\n",
       " 4,\n",
       " 5,\n",
       " 6,\n",
       " 7,\n",
       " 8,\n",
       " 9,\n",
       " 10,\n",
       " 11,\n",
       " 12,\n",
       " 13,\n",
       " 14,\n",
       " 15,\n",
       " 16,\n",
       " 17,\n",
       " 18,\n",
       " 19,\n",
       " 20,\n",
       " 21,\n",
       " 22,\n",
       " 23,\n",
       " 24,\n",
       " 25,\n",
       " 26,\n",
       " 27,\n",
       " 28,\n",
       " 29,\n",
       " 30,\n",
       " 31,\n",
       " 32,\n",
       " 33,\n",
       " 34,\n",
       " 35,\n",
       " 36,\n",
       " 37,\n",
       " 38,\n",
       " 39,\n",
       " 40,\n",
       " 41,\n",
       " 42,\n",
       " 43,\n",
       " 44,\n",
       " 45,\n",
       " 46,\n",
       " 47,\n",
       " 48,\n",
       " 49,\n",
       " 50,\n",
       " 51,\n",
       " 52,\n",
       " 53,\n",
       " 54,\n",
       " 55,\n",
       " 56,\n",
       " 57,\n",
       " 58,\n",
       " 59,\n",
       " 60,\n",
       " 61,\n",
       " 62,\n",
       " 63,\n",
       " 64,\n",
       " 65,\n",
       " 66,\n",
       " 67,\n",
       " 68,\n",
       " 69,\n",
       " 70,\n",
       " 71,\n",
       " 72,\n",
       " 73,\n",
       " 74,\n",
       " 75,\n",
       " 76,\n",
       " 77,\n",
       " 78,\n",
       " 79,\n",
       " 80,\n",
       " 81,\n",
       " 82,\n",
       " 83,\n",
       " 84,\n",
       " 85,\n",
       " 86,\n",
       " 87,\n",
       " 88,\n",
       " 89,\n",
       " 90,\n",
       " 91,\n",
       " 92,\n",
       " 93,\n",
       " 94,\n",
       " 95,\n",
       " 96,\n",
       " 97,\n",
       " 98,\n",
       " 99]"
      ]
     },
     "execution_count": 169,
     "metadata": {},
     "output_type": "execute_result"
    }
   ],
   "source": []
  },
  {
   "cell_type": "code",
   "execution_count": null,
   "metadata": {},
   "outputs": [],
   "source": []
  }
 ],
 "metadata": {
  "anaconda-cloud": {},
  "kernelspec": {
   "display_name": "Python 3 (ipykernel)",
   "language": "python",
   "name": "python3"
  },
  "language_info": {
   "codemirror_mode": {
    "name": "ipython",
    "version": 3
   },
   "file_extension": ".py",
   "mimetype": "text/x-python",
   "name": "python",
   "nbconvert_exporter": "python",
   "pygments_lexer": "ipython3",
   "version": "3.9.15"
  }
 },
 "nbformat": 4,
 "nbformat_minor": 4
}
